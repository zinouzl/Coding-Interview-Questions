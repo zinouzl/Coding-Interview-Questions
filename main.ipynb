{
  "nbformat": 4,
  "nbformat_minor": 0,
  "metadata": {
    "colab": {
      "name": "main.ipynb",
      "version": "0.3.2",
      "provenance": []
    },
    "kernelspec": {
      "name": "python3",
      "display_name": "Python 3"
    }
  },
  "cells": [
    {
      "cell_type": "markdown",
      "metadata": {
        "id": "wizJpdDCzAnJ",
        "colab_type": "text"
      },
      "source": [
        "# **Problem statement**\n",
        "\n",
        "This problem was asked by Google.\n",
        "\n",
        "You are given an array of length n + 1 whose elements belong to the set {1, 2, ..., n}. By the pigeonhole principle, there must be a duplicate. Find it in linear time and space.\n",
        "\n",
        "**Solution :**"
      ]
    },
    {
      "cell_type": "code",
      "metadata": {
        "id": "QQLi16fbxRzh",
        "colab_type": "code",
        "colab": {
          "base_uri": "https://localhost:8080/",
          "height": 51
        },
        "outputId": "052dde52-4e24-4b80-f413-61f0966e0bb5"
      },
      "source": [
        "import random\n",
        "\n",
        "n=20\n",
        "tab = [i for i in range(1,n)]\n",
        "\n",
        "tab.append(random.randint(0,n))\n",
        "\n",
        "xnorsum=0\n",
        "for i in tab:\n",
        "  xnorsum = ~xnorsum ^ i\n",
        "\n",
        "  \n",
        "print(tab)  \n",
        "print(xnorsum)"
      ],
      "execution_count": 75,
      "outputs": [
        {
          "output_type": "stream",
          "text": [
            "[1, 2, 3, 4, 5, 6, 7, 8, 9, 10, 11, 12, 13, 14, 15, 16, 17, 18, 19, 15]\n",
            "15\n"
          ],
          "name": "stdout"
        }
      ]
    },
    {
      "cell_type": "markdown",
      "metadata": {
        "id": "rn8mAX2qquku",
        "colab_type": "text"
      },
      "source": [
        "# **Problem statement**\n",
        "\n",
        "This problem was asked by Airbnb.\n",
        "\n",
        "Given a list of words, find all pairs of unique indices such that the concatenation of the two words is a palindrome.\n",
        "\n",
        "For example, given the list [\"code\", \"edoc\", \"da\", \"d\"], return [(0, 1), (1, 0), (2, 3)].\n",
        "\n",
        "**Solution :**"
      ]
    },
    {
      "cell_type": "code",
      "metadata": {
        "id": "18lLhsbBqwmv",
        "colab_type": "code",
        "outputId": "df1f931f-d839-4610-9eac-c0eeee4fc60c",
        "colab": {
          "base_uri": "https://localhost:8080/",
          "height": 34
        }
      },
      "source": [
        "tab = [\"code\", \"edoc\", \"da\", \"d\"]\n",
        "\n",
        "\n",
        "ret= [(k,l) for k,i in enumerate(tab) for l,j in enumerate(tab) if (i==j[::-1]or i[0::-1]==j) and l!=k]\n",
        "                                          \n",
        "\n",
        "print(ret)"
      ],
      "execution_count": 0,
      "outputs": [
        {
          "output_type": "stream",
          "text": [
            "[(0, 1), (1, 0), (2, 3)]\n"
          ],
          "name": "stdout"
        }
      ]
    },
    {
      "cell_type": "markdown",
      "metadata": {
        "id": "AiTM6Y6-aLDT",
        "colab_type": "text"
      },
      "source": [
        "# **Problem statement**\n",
        "\n",
        "This problem was asked by Facebook.\n",
        "\n",
        "Given a start word, an end word, and a dictionary of valid words, find the shortest transformation sequence from start to end such that only one letter is changed at each step of the sequence, and each transformed word exists in the dictionary. If there is no possible transformation, return null. Each word in the dictionary have the same length as start and end and is lowercase.\n",
        "\n",
        "For example, given start = \"dog\", end = \"cat\", and dictionary = {\"dot\", \"dop\", \"dat\", \"cat\"}, return [\"dog\", \"dot\", \"dat\", \"cat\"].\n",
        "\n",
        "Given start = \"dog\", end = \"cat\", and dictionary = {\"dot\", \"tod\", \"dat\", \"dar\"}, return null as there is no possible transformation from dog to cat.\n",
        "\n",
        "\n",
        "**Solution :**"
      ]
    },
    {
      "cell_type": "code",
      "metadata": {
        "id": "jRxqKqxSaZAK",
        "colab_type": "code",
        "outputId": "688c7a81-530f-4634-cfc1-0a57396d8fe9",
        "colab": {
          "base_uri": "https://localhost:8080/",
          "height": 34
        }
      },
      "source": [
        "dic  = {\"dot\",\"dop\",\"dat\",'cat'}\n",
        "start = \"dog\"\n",
        "end = \"cat\"\n",
        "\n",
        "ret = [start]\n",
        "current = set(start)\n",
        "\n",
        "l=1\n",
        "while(l):\n",
        "  l=0\n",
        "  for i in dic: \n",
        "    diff = list(set(i)-current)\n",
        "    \n",
        "\n",
        "    if (len(diff)==1):\n",
        "      s = list(i).index(diff[0]) if diff[0] in i else None\n",
        "      e = list(end).index(diff[0]) if diff[0] in end else None\n",
        "      \n",
        "      if (s==e):\n",
        "        ret.append(i)\n",
        "        current = set(i)\n",
        "        l=1\n",
        "        \n",
        "        \n",
        "if ret[-1]==end:print(ret)\n",
        "else:print(\"null\")\n",
        "    "
      ],
      "execution_count": 0,
      "outputs": [
        {
          "output_type": "stream",
          "text": [
            "['dog', 'dot', 'dat', 'cat']\n"
          ],
          "name": "stdout"
        }
      ]
    }
  ]
}