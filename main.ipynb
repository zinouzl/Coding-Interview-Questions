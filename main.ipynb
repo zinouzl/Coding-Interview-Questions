{
  "nbformat": 4,
  "nbformat_minor": 0,
  "metadata": {
    "colab": {
      "name": "main.ipynb",
      "version": "0.3.2",
      "provenance": []
    },
    "kernelspec": {
      "name": "python3",
      "display_name": "Python 3"
    }
  },
  "cells": [
    {
      "cell_type": "markdown",
      "metadata": {
        "id": "rn8mAX2qquku",
        "colab_type": "text"
      },
      "source": [
        "This problem was asked by Airbnb.\n",
        "\n",
        "Given a list of words, find all pairs of unique indices such that the concatenation of the two words is a palindrome.\n",
        "\n",
        "For example, given the list [\"code\", \"edoc\", \"da\", \"d\"], return [(0, 1), (1, 0), (2, 3)].\n",
        "\n",
        "**Solution :**"
      ]
    },
    {
      "cell_type": "code",
      "metadata": {
        "id": "18lLhsbBqwmv",
        "colab_type": "code",
        "colab": {
          "base_uri": "https://localhost:8080/",
          "height": 34
        },
        "outputId": "012abf7b-a3b8-4932-db47-2d2e6a35dded"
      },
      "source": [
        "tab = [\"code\", \"edoc\", \"da\", \"d\"]\n",
        "\n",
        "\n",
        "ret= [(k,l) for k,i in enumerate(tab) for l,j in enumerate(tab) if (i==j[::-1]or i[0::-1]==j) and l!=k]\n",
        "                                          \n",
        "\n",
        "print(ret)"
      ],
      "execution_count": 62,
      "outputs": [
        {
          "output_type": "stream",
          "text": [
            "[(0, 1), (1, 0), (2, 3)]\n"
          ],
          "name": "stdout"
        }
      ]
    },
    {
      "cell_type": "markdown",
      "metadata": {
        "id": "AiTM6Y6-aLDT",
        "colab_type": "text"
      },
      "source": [
        "This problem was asked by Facebook.\n",
        "\n",
        "Given a start word, an end word, and a dictionary of valid words, find the shortest transformation sequence from start to end such that only one letter is changed at each step of the sequence, and each transformed word exists in the dictionary. If there is no possible transformation, return null. Each word in the dictionary have the same length as start and end and is lowercase.\n",
        "\n",
        "For example, given start = \"dog\", end = \"cat\", and dictionary = {\"dot\", \"dop\", \"dat\", \"cat\"}, return [\"dog\", \"dot\", \"dat\", \"cat\"].\n",
        "\n",
        "Given start = \"dog\", end = \"cat\", and dictionary = {\"dot\", \"tod\", \"dat\", \"dar\"}, return null as there is no possible transformation from dog to cat.\n",
        "\n",
        "\n",
        "**Solution :**"
      ]
    },
    {
      "cell_type": "code",
      "metadata": {
        "id": "jRxqKqxSaZAK",
        "colab_type": "code",
        "colab": {
          "base_uri": "https://localhost:8080/",
          "height": 34
        },
        "outputId": "9a97e32e-8df7-4e14-a3e6-0fe23be4e07a"
      },
      "source": [
        "dic  = {\"dot\",\"dop\",\"dat\",'cat'}\n",
        "start = \"dog\"\n",
        "end = \"cat\"\n",
        "\n",
        "ret = [start]\n",
        "current = set(start)\n",
        "\n",
        "l=1\n",
        "while(l):\n",
        "  l=0\n",
        "  for i in dic: \n",
        "    diff = list(set(i)-current)\n",
        "    \n",
        "\n",
        "    if (len(diff)==1):\n",
        "      s = list(i).index(diff[0]) if diff[0] in i else None\n",
        "      e = list(end).index(diff[0]) if diff[0] in end else None\n",
        "      \n",
        "      if (s==e):\n",
        "        ret.append(i)\n",
        "        current = set(i)\n",
        "        l=1\n",
        "        \n",
        "        \n",
        "if ret[-1]==end:print(ret)\n",
        "else:print(\"null\")\n",
        "    \n",
        "\n",
        "\n",
        "\n"
      ],
      "execution_count": 40,
      "outputs": [
        {
          "output_type": "stream",
          "text": [
            "['dog', 'dot', 'dat', 'cat']\n"
          ],
          "name": "stdout"
        }
      ]
    }
  ]
}